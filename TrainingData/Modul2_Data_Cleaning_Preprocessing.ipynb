{
 "cells": [
  {
   "cell_type": "markdown",
   "metadata": {},
   "source": [
    "# 🧼 Notebook Latihan: Data Cleaning & Preprocessing (Modul 2)"
   ]
  },
  {
   "cell_type": "markdown",
   "metadata": {},
   "source": [
    "## 📥 1. Import Library dan Data Dummy"
   ]
  },
  {
   "cell_type": "code",
   "execution_count": 6,
   "metadata": {},
   "outputs": [
    {
     "data": {
      "text/html": [
       "<div>\n",
       "<style scoped>\n",
       "    .dataframe tbody tr th:only-of-type {\n",
       "        vertical-align: middle;\n",
       "    }\n",
       "\n",
       "    .dataframe tbody tr th {\n",
       "        vertical-align: top;\n",
       "    }\n",
       "\n",
       "    .dataframe thead th {\n",
       "        text-align: right;\n",
       "    }\n",
       "</style>\n",
       "<table border=\"1\" class=\"dataframe\">\n",
       "  <thead>\n",
       "    <tr style=\"text-align: right;\">\n",
       "      <th></th>\n",
       "      <th>nama</th>\n",
       "      <th>usia</th>\n",
       "      <th>gender</th>\n",
       "      <th>pendapatan</th>\n",
       "      <th>tanggal_daftar</th>\n",
       "    </tr>\n",
       "  </thead>\n",
       "  <tbody>\n",
       "    <tr>\n",
       "      <th>0</th>\n",
       "      <td>Andi</td>\n",
       "      <td>25.0</td>\n",
       "      <td>L</td>\n",
       "      <td>3.5</td>\n",
       "      <td>2022/01/01</td>\n",
       "    </tr>\n",
       "    <tr>\n",
       "      <th>1</th>\n",
       "      <td>Budi</td>\n",
       "      <td>NaN</td>\n",
       "      <td>P</td>\n",
       "      <td>7.8</td>\n",
       "      <td>2022-02-01</td>\n",
       "    </tr>\n",
       "    <tr>\n",
       "      <th>2</th>\n",
       "      <td>Citra</td>\n",
       "      <td>23.0</td>\n",
       "      <td>P</td>\n",
       "      <td>NaN</td>\n",
       "      <td>01-03-2022</td>\n",
       "    </tr>\n",
       "    <tr>\n",
       "      <th>3</th>\n",
       "      <td>Dina</td>\n",
       "      <td>30.0</td>\n",
       "      <td>None</td>\n",
       "      <td>5.5</td>\n",
       "      <td>2022.04.01</td>\n",
       "    </tr>\n",
       "    <tr>\n",
       "      <th>4</th>\n",
       "      <td>Eka</td>\n",
       "      <td>120.0</td>\n",
       "      <td>L</td>\n",
       "      <td>200.0</td>\n",
       "      <td>April 5, 2022</td>\n",
       "    </tr>\n",
       "    <tr>\n",
       "      <th>5</th>\n",
       "      <td>Budi</td>\n",
       "      <td>27.0</td>\n",
       "      <td>P</td>\n",
       "      <td>5.0</td>\n",
       "      <td>2022-02-01</td>\n",
       "    </tr>\n",
       "  </tbody>\n",
       "</table>\n",
       "</div>"
      ],
      "text/plain": [
       "    nama   usia gender  pendapatan tanggal_daftar\n",
       "0   Andi   25.0      L         3.5     2022/01/01\n",
       "1   Budi    NaN      P         7.8     2022-02-01\n",
       "2  Citra   23.0      P         NaN     01-03-2022\n",
       "3   Dina   30.0   None         5.5     2022.04.01\n",
       "4    Eka  120.0      L       200.0  April 5, 2022\n",
       "5   Budi   27.0      P         5.0     2022-02-01"
      ]
     },
     "execution_count": 6,
     "metadata": {},
     "output_type": "execute_result"
    }
   ],
   "source": [
    "import pandas as pd\n",
    "import numpy as np\n",
    "\n",
    "# Membuat data dummy\n",
    "data = {\n",
    "    'nama': ['Andi', 'Budi', 'Citra', 'Dina', 'Eka', 'Budi'],\n",
    "    'usia': [25, np.nan, 23, 30, 120, 27],\n",
    "    'gender': ['L', 'P', 'P', None, 'L', 'P'],\n",
    "    'pendapatan': [3.5, 7.8, np.nan, 5.5, 200.0, 5.0],\n",
    "    'tanggal_daftar': ['2022/01/01', '2022-02-01', '01-03-2022', '2022.04.01', 'April 5, 2022', '2022-02-01']\n",
    "}\n",
    "\n",
    "\n",
    "\n",
    "df = pd.DataFrame(data)\n",
    "# Save the dataframe to a CSV file\n",
    "df.to_csv('DataSampling/data_sample.csv', index=False)\n",
    "df"
   ]
  },
  {
   "cell_type": "markdown",
   "metadata": {},
   "source": [
    "## 🔍 2. Deteksi dan Tangani Missing Values"
   ]
  },
  {
   "cell_type": "code",
   "execution_count": 2,
   "metadata": {},
   "outputs": [
    {
     "name": "stdout",
     "output_type": "stream",
     "text": [
      "nama              0\n",
      "usia              1\n",
      "gender            1\n",
      "pendapatan        1\n",
      "tanggal_daftar    0\n",
      "dtype: int64\n"
     ]
    },
    {
     "data": {
      "text/html": [
       "<div>\n",
       "<style scoped>\n",
       "    .dataframe tbody tr th:only-of-type {\n",
       "        vertical-align: middle;\n",
       "    }\n",
       "\n",
       "    .dataframe tbody tr th {\n",
       "        vertical-align: top;\n",
       "    }\n",
       "\n",
       "    .dataframe thead th {\n",
       "        text-align: right;\n",
       "    }\n",
       "</style>\n",
       "<table border=\"1\" class=\"dataframe\">\n",
       "  <thead>\n",
       "    <tr style=\"text-align: right;\">\n",
       "      <th></th>\n",
       "      <th>nama</th>\n",
       "      <th>usia</th>\n",
       "      <th>gender</th>\n",
       "      <th>pendapatan</th>\n",
       "      <th>tanggal_daftar</th>\n",
       "    </tr>\n",
       "  </thead>\n",
       "  <tbody>\n",
       "    <tr>\n",
       "      <th>0</th>\n",
       "      <td>Andi</td>\n",
       "      <td>25.0</td>\n",
       "      <td>L</td>\n",
       "      <td>3.50</td>\n",
       "      <td>2022/01/01</td>\n",
       "    </tr>\n",
       "    <tr>\n",
       "      <th>1</th>\n",
       "      <td>Budi</td>\n",
       "      <td>27.0</td>\n",
       "      <td>P</td>\n",
       "      <td>7.80</td>\n",
       "      <td>2022-02-01</td>\n",
       "    </tr>\n",
       "    <tr>\n",
       "      <th>2</th>\n",
       "      <td>Citra</td>\n",
       "      <td>23.0</td>\n",
       "      <td>P</td>\n",
       "      <td>44.36</td>\n",
       "      <td>01-03-2022</td>\n",
       "    </tr>\n",
       "    <tr>\n",
       "      <th>3</th>\n",
       "      <td>Dina</td>\n",
       "      <td>30.0</td>\n",
       "      <td>P</td>\n",
       "      <td>5.50</td>\n",
       "      <td>2022.04.01</td>\n",
       "    </tr>\n",
       "    <tr>\n",
       "      <th>4</th>\n",
       "      <td>Eka</td>\n",
       "      <td>120.0</td>\n",
       "      <td>L</td>\n",
       "      <td>200.00</td>\n",
       "      <td>April 5, 2022</td>\n",
       "    </tr>\n",
       "    <tr>\n",
       "      <th>5</th>\n",
       "      <td>Budi</td>\n",
       "      <td>27.0</td>\n",
       "      <td>P</td>\n",
       "      <td>5.00</td>\n",
       "      <td>2022-02-01</td>\n",
       "    </tr>\n",
       "  </tbody>\n",
       "</table>\n",
       "</div>"
      ],
      "text/plain": [
       "    nama   usia gender  pendapatan tanggal_daftar\n",
       "0   Andi   25.0      L        3.50     2022/01/01\n",
       "1   Budi   27.0      P        7.80     2022-02-01\n",
       "2  Citra   23.0      P       44.36     01-03-2022\n",
       "3   Dina   30.0      P        5.50     2022.04.01\n",
       "4    Eka  120.0      L      200.00  April 5, 2022\n",
       "5   Budi   27.0      P        5.00     2022-02-01"
      ]
     },
     "execution_count": 2,
     "metadata": {},
     "output_type": "execute_result"
    }
   ],
   "source": [
    "# Cek jumlah missing value\n",
    "print(df.isnull().sum())\n",
    "\n",
    "# Mengisi usia dengan median\n",
    "df['usia'] = df['usia'].fillna(df['usia'].median())\n",
    "\n",
    "# Mengisi pendapatan dengan mean\n",
    "df['pendapatan'] = df['pendapatan'].fillna(df['pendapatan'].mean())\n",
    "\n",
    "# Mengisi gender dengan modus (nilai terbanyak)\n",
    "df['gender'] = df['gender'].fillna(df['gender'].mode()[0])\n",
    "df"
   ]
  },
  {
   "cell_type": "code",
   "execution_count": 3,
   "metadata": {
    "vscode": {
     "languageId": "ruby"
    }
   },
   "outputs": [
    {
     "name": "stdout",
     "output_type": "stream",
     "text": [
      "Jumlah missing values per kolom:\n",
      "nama              0\n",
      "usia              0\n",
      "gender            0\n",
      "pendapatan        0\n",
      "tanggal_daftar    0\n",
      "dtype: int64\n",
      "Data setelah menangani missing values:\n",
      "    nama   usia gender  pendapatan tanggal_daftar\n",
      "0   Andi   25.0      L        3.50     2022/01/01\n",
      "1   Budi   27.0      P        7.80     2022-02-01\n",
      "2  Citra   23.0      P       44.36     01-03-2022\n",
      "3   Dina   30.0      P        5.50     2022.04.01\n",
      "4    Eka  120.0      L      200.00  April 5, 2022\n",
      "5   Budi   27.0      P        5.00     2022-02-01\n"
     ]
    }
   ],
   "source": [
    "# Deteksi missing values\n",
    "missing_values = df.isnull().sum()\n",
    "print(\"Jumlah missing values per kolom:\")\n",
    "print(missing_values)\n",
    "\n",
    "# Mengisi missing values dengan nilai tetap (contoh: 0 untuk numerik, 'Tidak Diketahui' untuk kategorikal)\n",
    "df['usia'] = df['usia'].fillna(0)\n",
    "df['pendapatan'] = df['pendapatan'].fillna(0)\n",
    "df['gender'] = df['gender'].fillna('Tidak Diketahui')\n",
    "\n",
    "# Atau, menghapus baris yang memiliki missing values\n",
    "df_cleaned = df.dropna()\n",
    "\n",
    "# Menampilkan hasil\n",
    "print(\"Data setelah menangani missing values:\")\n",
    "print(df)"
   ]
  },
  {
   "cell_type": "code",
   "execution_count": 8,
   "metadata": {},
   "outputs": [
    {
     "name": "stdout",
     "output_type": "stream",
     "text": [
      "Data original dari CSV:\n",
      "    nama   usia gender  pendapatan tanggal_daftar\n",
      "0   Andi   25.0      L         3.5     2022/01/01\n",
      "1   Budi    NaN      P         7.8     2022-02-01\n",
      "2  Citra   23.0      P         NaN     01-03-2022\n",
      "3   Dina   30.0    NaN         5.5     2022.04.01\n",
      "4    Eka  120.0      L       200.0  April 5, 2022\n",
      "5   Budi   27.0      P         5.0     2022-02-01\n",
      "\n",
      "Jumlah missing values per kolom setelah membaca dari CSV:\n",
      "nama              0\n",
      "usia              1\n",
      "gender            1\n",
      "pendapatan        1\n",
      "tanggal_daftar    0\n",
      "dtype: int64\n",
      "\n",
      "Data setelah menangani missing values:\n",
      "    nama   usia gender  pendapatan tanggal_daftar\n",
      "0   Andi   25.0      L        3.50     2022/01/01\n",
      "1   Budi   27.0      P        7.80     2022-02-01\n",
      "2  Citra   23.0      P       44.36     01-03-2022\n",
      "3   Dina   30.0      P        5.50     2022.04.01\n",
      "4    Eka  120.0      L      200.00  April 5, 2022\n",
      "5   Budi   27.0      P        5.00     2022-02-01\n"
     ]
    }
   ],
   "source": [
    "\n",
    "\n",
    "# Load the CSV file\n",
    "df_csv = pd.read_csv('DataSampling/data_sample.csv')\n",
    "print(\"Data original dari CSV:\")\n",
    "print(df_csv)\n",
    "\n",
    "# Check for missing values\n",
    "print(\"\\nJumlah missing values per kolom setelah membaca dari CSV:\")\n",
    "print(df_csv.isnull().sum())\n",
    "\n",
    "# Handle missing values (example: fill with median for numeric columns)\n",
    "df_csv['usia'] = df_csv['usia'].fillna(df_csv['usia'].median())\n",
    "df_csv['pendapatan'] = df_csv['pendapatan'].fillna(df_csv['pendapatan'].mean())\n",
    "df_csv['gender'] = df_csv['gender'].fillna(df_csv['gender'].mode()[0])\n",
    "\n",
    "# Display the cleaned dataframe\n",
    "print(\"\\nData setelah menangani missing values:\")\n",
    "print(df_csv)"
   ]
  },
  {
   "cell_type": "markdown",
   "metadata": {},
   "source": [
    "## 🚨 3. Tangani Outlier (Contoh: Usia & Pendapatan)"
   ]
  },
  {
   "cell_type": "code",
   "execution_count": 10,
   "metadata": {},
   "outputs": [
    {
     "data": {
      "text/html": [
       "<div>\n",
       "<style scoped>\n",
       "    .dataframe tbody tr th:only-of-type {\n",
       "        vertical-align: middle;\n",
       "    }\n",
       "\n",
       "    .dataframe tbody tr th {\n",
       "        vertical-align: top;\n",
       "    }\n",
       "\n",
       "    .dataframe thead th {\n",
       "        text-align: right;\n",
       "    }\n",
       "</style>\n",
       "<table border=\"1\" class=\"dataframe\">\n",
       "  <thead>\n",
       "    <tr style=\"text-align: right;\">\n",
       "      <th></th>\n",
       "      <th>nama</th>\n",
       "      <th>usia</th>\n",
       "      <th>gender</th>\n",
       "      <th>pendapatan</th>\n",
       "      <th>tanggal_daftar</th>\n",
       "    </tr>\n",
       "  </thead>\n",
       "  <tbody>\n",
       "    <tr>\n",
       "      <th>0</th>\n",
       "      <td>Andi</td>\n",
       "      <td>25.0</td>\n",
       "      <td>L</td>\n",
       "      <td>3.5</td>\n",
       "      <td>2022-01-01</td>\n",
       "    </tr>\n",
       "    <tr>\n",
       "      <th>3</th>\n",
       "      <td>Dina</td>\n",
       "      <td>30.0</td>\n",
       "      <td>None</td>\n",
       "      <td>5.5</td>\n",
       "      <td>NaT</td>\n",
       "    </tr>\n",
       "    <tr>\n",
       "      <th>5</th>\n",
       "      <td>Budi</td>\n",
       "      <td>27.0</td>\n",
       "      <td>P</td>\n",
       "      <td>5.0</td>\n",
       "      <td>NaT</td>\n",
       "    </tr>\n",
       "  </tbody>\n",
       "</table>\n",
       "</div>"
      ],
      "text/plain": [
       "   nama  usia gender  pendapatan tanggal_daftar\n",
       "0  Andi  25.0      L         3.5     2022-01-01\n",
       "3  Dina  30.0   None         5.5            NaT\n",
       "5  Budi  27.0      P         5.0            NaT"
      ]
     },
     "execution_count": 10,
     "metadata": {},
     "output_type": "execute_result"
    }
   ],
   "source": [
    "# Menghapus outlier usia di atas 100\n",
    "df = df[df['usia'] <= 100]\n",
    "\n",
    "# Pendapatan di atas 100 dianggap outlier\n",
    "df = df[df['pendapatan'] <= 100]\n",
    "df"
   ]
  },
  {
   "cell_type": "markdown",
   "metadata": {},
   "source": [
    "## 🧹 4. Format Data: Tanggal & Duplikat"
   ]
  },
  {
   "cell_type": "code",
   "execution_count": 12,
   "metadata": {},
   "outputs": [
    {
     "name": "stdout",
     "output_type": "stream",
     "text": [
      "Data original dari CSV:\n",
      "    nama   usia gender  pendapatan tanggal_daftar\n",
      "0   Andi   25.0      L         3.5     2022/01/01\n",
      "1   Budi    NaN      P         7.8     2022-02-01\n",
      "2  Citra   23.0      P         NaN     01-03-2022\n",
      "3   Dina   30.0    NaN         5.5     2022.04.01\n",
      "4    Eka  120.0      L       200.0  April 5, 2022\n",
      "5   Budi   27.0      P         5.0     2022-02-01\n"
     ]
    },
    {
     "data": {
      "text/html": [
       "<div>\n",
       "<style scoped>\n",
       "    .dataframe tbody tr th:only-of-type {\n",
       "        vertical-align: middle;\n",
       "    }\n",
       "\n",
       "    .dataframe tbody tr th {\n",
       "        vertical-align: top;\n",
       "    }\n",
       "\n",
       "    .dataframe thead th {\n",
       "        text-align: right;\n",
       "    }\n",
       "</style>\n",
       "<table border=\"1\" class=\"dataframe\">\n",
       "  <thead>\n",
       "    <tr style=\"text-align: right;\">\n",
       "      <th></th>\n",
       "      <th>nama</th>\n",
       "      <th>usia</th>\n",
       "      <th>gender</th>\n",
       "      <th>pendapatan</th>\n",
       "      <th>tanggal_daftar</th>\n",
       "    </tr>\n",
       "  </thead>\n",
       "  <tbody>\n",
       "    <tr>\n",
       "      <th>0</th>\n",
       "      <td>Andi</td>\n",
       "      <td>25.0</td>\n",
       "      <td>L</td>\n",
       "      <td>3.5</td>\n",
       "      <td>2022-01-01</td>\n",
       "    </tr>\n",
       "    <tr>\n",
       "      <th>3</th>\n",
       "      <td>Dina</td>\n",
       "      <td>30.0</td>\n",
       "      <td>None</td>\n",
       "      <td>5.5</td>\n",
       "      <td>NaT</td>\n",
       "    </tr>\n",
       "    <tr>\n",
       "      <th>5</th>\n",
       "      <td>Budi</td>\n",
       "      <td>27.0</td>\n",
       "      <td>P</td>\n",
       "      <td>5.0</td>\n",
       "      <td>NaT</td>\n",
       "    </tr>\n",
       "  </tbody>\n",
       "</table>\n",
       "</div>"
      ],
      "text/plain": [
       "   nama  usia gender  pendapatan tanggal_daftar\n",
       "0  Andi  25.0      L         3.5     2022-01-01\n",
       "3  Dina  30.0   None         5.5            NaT\n",
       "5  Budi  27.0      P         5.0            NaT"
      ]
     },
     "execution_count": 12,
     "metadata": {},
     "output_type": "execute_result"
    }
   ],
   "source": [
    "# Load the CSV file\n",
    "df_csv = pd.read_csv('DataSampling/data_sample.csv')\n",
    "print(\"Data original dari CSV:\")\n",
    "print(df_csv)\n",
    "\n",
    "# Konversi kolom tanggal menjadi format datetime\n",
    "df['tanggal_daftar'] = pd.to_datetime(df['tanggal_daftar'], errors='coerce')\n",
    "\n",
    "# Cek dan hapus duplikat\n",
    "df = df.drop_duplicates()\n",
    "df"
   ]
  },
  {
   "cell_type": "markdown",
   "metadata": {},
   "source": [
    "## 🏷️ 5. Encoding Variabel Kategorikal"
   ]
  },
  {
   "cell_type": "code",
   "execution_count": 13,
   "metadata": {},
   "outputs": [
    {
     "data": {
      "text/html": [
       "<div>\n",
       "<style scoped>\n",
       "    .dataframe tbody tr th:only-of-type {\n",
       "        vertical-align: middle;\n",
       "    }\n",
       "\n",
       "    .dataframe tbody tr th {\n",
       "        vertical-align: top;\n",
       "    }\n",
       "\n",
       "    .dataframe thead th {\n",
       "        text-align: right;\n",
       "    }\n",
       "</style>\n",
       "<table border=\"1\" class=\"dataframe\">\n",
       "  <thead>\n",
       "    <tr style=\"text-align: right;\">\n",
       "      <th></th>\n",
       "      <th>nama</th>\n",
       "      <th>usia</th>\n",
       "      <th>pendapatan</th>\n",
       "      <th>tanggal_daftar</th>\n",
       "      <th>gender_P</th>\n",
       "    </tr>\n",
       "  </thead>\n",
       "  <tbody>\n",
       "    <tr>\n",
       "      <th>0</th>\n",
       "      <td>Andi</td>\n",
       "      <td>25.0</td>\n",
       "      <td>3.5</td>\n",
       "      <td>2022-01-01</td>\n",
       "      <td>False</td>\n",
       "    </tr>\n",
       "    <tr>\n",
       "      <th>3</th>\n",
       "      <td>Dina</td>\n",
       "      <td>30.0</td>\n",
       "      <td>5.5</td>\n",
       "      <td>NaT</td>\n",
       "      <td>False</td>\n",
       "    </tr>\n",
       "    <tr>\n",
       "      <th>5</th>\n",
       "      <td>Budi</td>\n",
       "      <td>27.0</td>\n",
       "      <td>5.0</td>\n",
       "      <td>NaT</td>\n",
       "      <td>True</td>\n",
       "    </tr>\n",
       "  </tbody>\n",
       "</table>\n",
       "</div>"
      ],
      "text/plain": [
       "   nama  usia  pendapatan tanggal_daftar  gender_P\n",
       "0  Andi  25.0         3.5     2022-01-01     False\n",
       "3  Dina  30.0         5.5            NaT     False\n",
       "5  Budi  27.0         5.0            NaT      True"
      ]
     },
     "execution_count": 13,
     "metadata": {},
     "output_type": "execute_result"
    }
   ],
   "source": [
    "# One-hot encoding kolom gender\n",
    "df_encoded = pd.get_dummies(df, columns=['gender'], drop_first=True)\n",
    "df_encoded"
   ]
  }
 ],
 "metadata": {
  "kernelspec": {
   "display_name": "training",
   "language": "python",
   "name": "python3"
  },
  "language_info": {
   "codemirror_mode": {
    "name": "ipython",
    "version": 3
   },
   "file_extension": ".py",
   "mimetype": "text/x-python",
   "name": "python",
   "nbconvert_exporter": "python",
   "pygments_lexer": "ipython3",
   "version": "3.12.9"
  }
 },
 "nbformat": 4,
 "nbformat_minor": 2
}
