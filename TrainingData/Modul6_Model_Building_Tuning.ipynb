{
    "cells": [
     {
      "cell_type": "markdown",
      "metadata": {},
      "source": [
       "# 🧠 Modul 6: Model Building & Hyperparameter Tuning\n",
       "\n",
       "Notebook ini membahas cara membangun model Machine Learning dan melakukan tuning hyperparameter untuk meningkatkan akurasi."
      ]
     },
     {
      "cell_type": "code",
      "execution_count": null,
      "metadata": {},
      "outputs": [],
      "source": [
       "# 📥 1. Import Library\n",
       "import pandas as pd\n",
       "from sklearn.datasets import load_breast_cancer\n",
       "from sklearn.model_selection import train_test_split, GridSearchCV, RandomizedSearchCV\n",
       "from sklearn.linear_model import LogisticRegression\n",
       "from sklearn.ensemble import RandomForestClassifier\n",
       "from sklearn.metrics import classification_report, accuracy_score\n",
       "import warnings\n",
       "warnings.filterwarnings('ignore')"
      ]
     },
     {
      "cell_type": "code",
      "execution_count": null,
      "metadata": {},
      "outputs": [],
      "source": [
       "# 📊 2. Load Data dan Split\n",
       "data = load_breast_cancer()\n",
       "X = pd.DataFrame(data.data, columns=data.feature_names)\n",
       "y = pd.Series(data.target)\n",
       "X_train, X_test, y_train, y_test = train_test_split(X, y, test_size=0.2, random_state=42)\n",
       "X_train.shape, X_test.shape"
      ]
     },
     {
      "cell_type": "markdown",
      "metadata": {},
      "source": [
       "## 🔍 3. Model Baseline: Logistic Regression"
      ]
     },
     {
      "cell_type": "code",
      "execution_count": null,
      "metadata": {},
      "outputs": [],
      "source": [
       "logreg = LogisticRegression()\n",
       "logreg.fit(X_train, y_train)\n",
       "y_pred = logreg.predict(X_test)\n",
       "print(\"Accuracy:\", accuracy_score(y_test, y_pred))\n",
       "print(classification_report(y_test, y_pred))"
      ]
     },
     {
      "cell_type": "markdown",
      "metadata": {},
      "source": [
       "## 🌲 4. Model Random Forest + Grid Search"
      ]
     },
     {
      "cell_type": "code",
      "execution_count": null,
      "metadata": {},
      "outputs": [],
      "source": [
       "param_grid = {\n",
       "    'n_estimators': [50, 100, 150],\n",
       "    'max_depth': [None, 5, 10],\n",
       "    'min_samples_split': [2, 5]\n",
       "}\n",
       "\n",
       "rf = RandomForestClassifier(random_state=42)\n",
       "grid_search = GridSearchCV(estimator=rf, param_grid=param_grid, cv=5, n_jobs=-1, scoring='accuracy')\n",
       "grid_search.fit(X_train, y_train)\n",
       "\n",
       "print(\"Best Params:\", grid_search.best_params_)\n",
       "y_pred_rf = grid_search.best_estimator_.predict(X_test)\n",
       "print(\"Accuracy:\", accuracy_score(y_test, y_pred_rf))"
      ]
     },
     {
      "cell_type": "markdown",
      "metadata": {},
      "source": [
       "## 🎲 5. Randomized Search (Logistic Regression)"
      ]
     },
     {
      "cell_type": "code",
      "execution_count": null,
      "metadata": {},
      "outputs": [],
      "source": [
       "param_dist = {\n",
       "    'C': [0.01, 0.1, 1.0, 10.0, 100.0],\n",
       "    'solver': ['liblinear', 'lbfgs']\n",
       "}\n",
       "\n",
       "rand_search = RandomizedSearchCV(LogisticRegression(), param_distributions=param_dist, n_iter=5, cv=5, random_state=42)\n",
       "rand_search.fit(X_train, y_train)\n",
       "\n",
       "print(\"Best Params:\", rand_search.best_params_)\n",
       "y_pred_rs = rand_search.best_estimator_.predict(X_test)\n",
       "print(\"Accuracy:\", accuracy_score(y_test, y_pred_rs))"
      ]
     }
    ],
    "metadata": {
     "kernelspec": {
      "display_name": "Python 3",
      "language": "python",
      "name": "python3"
     },
     "language_info": {
      "name": "python"
     }
    },
    "nbformat": 4,
    "nbformat_minor": 2
   }
   