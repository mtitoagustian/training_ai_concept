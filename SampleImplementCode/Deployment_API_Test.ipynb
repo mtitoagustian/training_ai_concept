{
 "cells": [
  {
   "cell_type": "markdown",
   "metadata": {},
   "source": [
    "# 🔌 Uji Coba API Model ML\n",
    "\n",
    "Notebook ini menguji endpoint API FastAPI yang dibuat untuk model ML. Gunakan `requests` untuk kirim POST request ke endpoint `/predict`."
   ]
  },
  {
   "cell_type": "code",
   "execution_count": null,
   "metadata": {},
   "outputs": [],
   "source": [
    "import requests\n",
    "import json"
   ]
  },
  {
   "cell_type": "markdown",
   "metadata": {},
   "source": [
    "## ⚙️ Kirim Data ke API Lokal"
   ]
  },
  {
   "cell_type": "code",
   "execution_count": null,
   "metadata": {},
   "outputs": [],
   "source": [
    "# Contoh data input (misal breast cancer dataset dengan 30 fitur)\n",
    "input_data = {\n",
    "    \"features\": [14.0, 20.0, 90.0, 600.0, 0.1, 0.2, 0.3, 0.1, 0.2, 0.05,\n",
    "                 0.5, 1.0, 3.0, 40.0, 0.005, 0.02, 0.03, 0.01, 0.01, 0.003,\n",
    "                 16.0, 30.0, 110.0, 800.0, 0.15, 0.4, 0.5, 0.2, 0.3, 0.07]\n",
    "}\n",
    "\n",
    "url = \"http://127.0.0.1:8000/predict\"\n",
    "response = requests.post(url, json=input_data)\n",
    "print(\"Status Code:\", response.status_code)\n",
    "print(\"Response JSON:\", response.json())"
   ]
  }
 ],
 "metadata": {
  "kernelspec": {
   "display_name": "Python 3",
   "language": "python",
   "name": "python3"
  },
  "language_info": {
   "name": "python"
  }
 },
 "nbformat": 4,
 "nbformat_minor": 2
}
