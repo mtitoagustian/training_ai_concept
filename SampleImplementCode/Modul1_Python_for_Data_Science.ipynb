{
 "cells": [
  {
   "cell_type": "markdown",
   "metadata": {},
   "source": [
    "# 🧪 Notebook Latihan: Python for Data Science (Modul 1)"
   ]
  },
  {
   "cell_type": "code",
   "execution_count": null,
   "metadata": {},
   "outputs": [],
   "source": [
    "# 📘 1. Dasar-Dasar Python\n",
    "nama = \"AI Engineer\" \n",
    "umur = 25\n",
    "nilai = [80, 85, 90] \n",
    "print(\"Nama:\", nama)\n",
    "print(\"Umur:\", umur)\n",
    "print(\"Nilai:\", nilai)\n",
    "if umur > 18:\n",
    "    print(\"Kategori: Dewasa\")\n",
    "else:\n",
    "    print(\"Kategori: Anak-anak\")\n",
    "for n in nilai:\n",
    "    print(f\"Nilai = {n}\")\n",
    "def rata_rata(data):\n",
    "    return sum(data) / len(data)\n",
    "print(\"Rata-rata nilai:\", rata_rata(nilai))\n",
    "nilai_naik = [n + 5 for n in nilai]\n",
    "print(\"Nilai setelah dinaikkan:\", nilai_naik)"
   ]
  },
  {
   "cell_type": "code",
   "execution_count": null,
   "metadata": {},
   "outputs": [],
   "source": [
    "# 📗 2. NumPy – Operasi Numerik\n",
    "import numpy as np\n",
    "arr = np.array([10, 20, 30, 40])\n",
    "print(\"Mean:\", np.mean(arr)) # Rata-rata\n",
    "print(\"Median:\", np.median(arr)) # Median\n",
    "print(\"Modus:\", np.bincount(arr).argmax()) # Modus\n",
    "print(\"Variansi:\", np.var(arr)) # Variansi\n",
    "print(\"Maksimum:\", np.max(arr)) # Nilai maksimum\n",
    "print(\"Minimum:\", np.min(arr)) # Nilai minimum\n",
    "print(\"Standar Deviasi:\", np.std(arr)) # Standar deviasi\n",
    "mat = np.array([[1, 2], [3, 4]]) # Matriks 2x2\n",
    "print(\"Matriks Asli:\\n\", mat) # Matriks asli \n",
    "print(\"Transpos:\\n\", mat.T) # Transpos matriks"
   ]
  },
  {
   "cell_type": "code",
   "execution_count": null,
   "metadata": {},
   "outputs": [],
   "source": [
    "# NumPy string operations\n",
    "string_array = np.array([\"Andi\", \"Budi\", \"Citra\", \"Dina\"])\n",
    "print(\"Original Array:\", string_array)\n",
    "\n",
    "# Convert to uppercase\n",
    "uppercase_array = np.char.upper(string_array)\n",
    "print(\"Uppercase:\", uppercase_array)\n",
    "\n",
    "# Convert to lowercase\n",
    "lowercase_array = np.char.lower(string_array)\n",
    "print(\"Lowercase:\", lowercase_array)\n",
    "\n",
    "# Add a prefix\n",
    "prefixed_array = np.char.add(\"Mr. \", string_array)\n",
    "print(\"Prefixed:\", prefixed_array)\n",
    "\n",
    "# Check if strings contain a substring\n",
    "contains_a = np.char.find(string_array, \"a\") >= 0\n",
    "print(\"Contains 'a':\", contains_a)"
   ]
  },
  {
   "cell_type": "code",
   "execution_count": null,
   "metadata": {},
   "outputs": [
    {
     "name": "stdout",
     "output_type": "stream",
     "text": [
      "Array Boolean: [ True False  True False]\n",
      "Logical AND: [ True False False False]\n",
      "Logical OR: [ True  True  True False]\n",
      "Logical NOT: [False  True False  True]\n"
     ]
    }
   ],
   "source": [
    "# Membuat array boolean\n",
    "bool_array = np.array([True, False, True, False]) # Array boolean\n",
    "print(\"Array Boolean:\", bool_array)\n",
    "\n",
    "# Operasi logika pada array boolean\n",
    "and_result = np.logical_and(bool_array, [True, True, False, False]) \n",
    "print(\"Logical AND:\", and_result)\n",
    "\n",
    "or_result = np.logical_or(bool_array, [True, True, False, False])\n",
    "print(\"Logical OR:\", or_result)\n",
    "\n",
    "not_result = np.logical_not(bool_array)\n",
    "print(\"Logical NOT:\", not_result)"
   ]
  },
  {
   "cell_type": "code",
   "execution_count": null,
   "metadata": {},
   "outputs": [],
   "source": [
    "# 📘 3. Pandas – Manipulasi Data\n",
    "import pandas as pd\n",
    "data = {\n",
    "    \"Nama\": [\"Andi\", \"Budi\", \"Citra\", \"Dina\"],\n",
    "    \"Nilai\": [85, 90, None, 95]\n",
    "}\n",
    "df = pd.DataFrame(data)\n",
    "print(df.head())\n",
    "print(\"Jumlah missing value:\\n\", df.isnull().sum())\n",
    "mean_nilai = df['Nilai'].mean()\n",
    "df['Nilai'] = df['Nilai'].fillna(mean_nilai)\n",
    "print(\"Deskripsi statistik:\\n\", df.describe())\n",
    "print(\"Siswa dengan nilai > 85:\\n\", df[df['Nilai'] > 85])"
   ]
  },
  {
   "cell_type": "code",
   "execution_count": null,
   "metadata": {},
   "outputs": [],
   "source": [
    "# Membaca data dari file CSV\n",
    "csv_data = \"https://raw.githubusercontent.com/datasciencedojo/datasets/master/titanic.csv\"\n",
    "df_csv = pd.read_csv(csv_data)  # Membaca CSV ke dalam DataFrame\n",
    "\n",
    "# Menampilkan 5 baris pertama data\n",
    "print(df_csv.head()) \n",
    "\n",
    "# atau menampilkan 5 baris terakhir data\n",
    "print(df_csv.tail())\n",
    "\n",
    "# Menampilkan nama kolom, dimensi DataFrame, dan tipe data setiap kolom\n",
    "print(df_csv.columns)  # Menampilkan nama kolom\n",
    "print(df_csv.shape)  # Menampilkan dimensi DataFrame\n",
    "print(df_csv.dtypes)  # Menampilkan tipe data setiap kolom\n",
    "\n",
    "\n",
    "# Menampilkan informasi ringkasan tentang data\n",
    "print(df_csv.info())\n",
    "\n",
    "# Menampilkan statistik deskriptif\n",
    "print(df_csv.describe())"
   ]
  },
  {
   "cell_type": "code",
   "execution_count": null,
   "metadata": {},
   "outputs": [],
   "source": [
    "import requests\n",
    "\n",
    "# URL API\n",
    "api_url = \"https://jsonplaceholder.typicode.com/posts\"\n",
    "\n",
    "# Mengambil data dari API\n",
    "response = requests.get(api_url)\n",
    "data_api = response.json()\n",
    "\n",
    "# Memuat data ke dalam DataFrame\n",
    "df_api = pd.DataFrame(data_api)\n",
    "\n",
    "# Menampilkan 5 baris pertama\n",
    "print(df_api.head())"
   ]
  },
  {
   "cell_type": "code",
   "execution_count": null,
   "metadata": {},
   "outputs": [],
   "source": [
    "# URL API dengan parameter\n",
    "auth_api_url_with_params = \"https://hc-portal.modena.com/api/v1/get-structure-by-nik\"\n",
    "\n",
    "# Parameter untuk permintaan\n",
    "params = {\n",
    "    \"nik\": \"1907.2169\"\n",
    "}\n",
    "\n",
    "# Header autentikasi\n",
    "headers = {\n",
    "    \"securitycode\": \"b8ea221bc67e53fad481bd9ebdcfad1e405180bd25a6528fc4d97267a555efbe\"\n",
    "}\n",
    "\n",
    "# Mengambil data dari API\n",
    "auth_response_with_params = requests.get(auth_api_url_with_params, headers=headers, params=params)\n",
    "\n",
    "# Memeriksa apakah permintaan berhasil\n",
    "if auth_response_with_params.status_code == 200:\n",
    "    auth_data_with_params = auth_response_with_params.json()\n",
    "    # Memuat data ke dalam DataFrame\n",
    "    df_auth_api_with_params = pd.DataFrame(auth_data_with_params)\n",
    "    print(df_auth_api_with_params.head())\n",
    "else:\n",
    "    print(f\"Failed to fetch data: {auth_response_with_params.status_code}\")"
   ]
  },
  {
   "cell_type": "code",
   "execution_count": null,
   "metadata": {},
   "outputs": [],
   "source": [
    "# 📊 4. Visualisasi dengan Matplotlib & Seaborn\n",
    "import matplotlib.pyplot as plt\n",
    "import seaborn as sns\n",
    "plt.hist(df['Nilai'])\n",
    "plt.title(\"Distribusi Nilai Siswa\")\n",
    "plt.xlabel(\"Nilai\")\n",
    "plt.ylabel(\"Frekuensi\")\n",
    "plt.grid(True)\n",
    "plt.show()\n",
    "sns.boxplot(x=df['Nilai'])\n",
    "plt.title(\"Boxplot Nilai\")\n",
    "plt.show()"
   ]
  },
  {
   "cell_type": "code",
   "execution_count": null,
   "metadata": {},
   "outputs": [],
   "source": [
    "# Scatter plot \n",
    "x = [1, 2, 3, 4, 5]\n",
    "y = [10, 20, 25, 30, 35]\n",
    "\n",
    "plt.scatter(x, y, color='blue', label='Data Points') # Titik data\n",
    " \n",
    "# Line plot\n",
    "plt.plot(x, y, color='red', label='Line') # Garis\n",
    "plt.title(\"Contoh Scatter Plot\") # Judul plot\n",
    "plt.xlabel(\"X-axis\") # Label sumbu X\n",
    "plt.ylabel(\"Y-axis\") # Label sumbu Y\n",
    "plt.legend() # Menampilkan legenda\n",
    "plt.grid(True) # Menampilkan grid\n",
    "plt.show() # Menampilkan plot"
   ]
  },
  {
   "cell_type": "code",
   "execution_count": null,
   "metadata": {},
   "outputs": [],
   "source": [
    "# Membuat heatmap dari matriks\n",
    "sns.heatmap(mat, annot=True, fmt=\"d\", cmap=\"YlGnBu\") # Matriks\n",
    "plt.title(\"Heatmap Matriks\") # Judul heatmap\n",
    "plt.xlabel(\"Kolom\") # Label sumbu X\n",
    "plt.ylabel(\"Baris\")\n",
    "plt.show()"
   ]
  }
 ],
 "metadata": {
  "kernelspec": {
   "display_name": "training",
   "language": "python",
   "name": "python3"
  },
  "language_info": {
   "codemirror_mode": {
    "name": "ipython",
    "version": 3
   },
   "file_extension": ".py",
   "mimetype": "text/x-python",
   "name": "python",
   "nbconvert_exporter": "python",
   "pygments_lexer": "ipython3",
   "version": "3.12.9"
  }
 },
 "nbformat": 4,
 "nbformat_minor": 2
}
