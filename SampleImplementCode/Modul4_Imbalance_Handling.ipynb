{
 "cells": [
  {
   "cell_type": "markdown",
   "metadata": {},
   "source": [
    "# Latihan: Imbalance Data Handling (Modul 4)"
   ]
  },
  {
   "cell_type": "markdown",
   "metadata": {},
   "source": [
    "## 📥 1. Import Library"
   ]
  },
  {
   "cell_type": "code",
   "execution_count": 5,
   "metadata": {},
   "outputs": [],
   "source": [
    "# 📥 1. Import Library\n",
    "import pandas as pd\n",
    "import numpy as np\n",
    "import seaborn as sns\n",
    "import matplotlib.pyplot as plt\n",
    "from sklearn.datasets import make_classification\n",
    "from sklearn.model_selection import train_test_split\n",
    "from sklearn.linear_model import LogisticRegression\n",
    "from sklearn.metrics import classification_report, confusion_matrix\n",
    "from imblearn.over_sampling import SMOTE\n",
    "from imblearn.under_sampling import RandomUnderSampler\n",
    "from collections import Counter\n",
    "import warnings\n",
    "warnings.filterwarnings('ignore')"
   ]
  },
  {
   "cell_type": "markdown",
   "metadata": {},
   "source": [
    "## 🔧 2. Generate Dataset Imbalance"
   ]
  },
  {
   "cell_type": "code",
   "execution_count": null,
   "metadata": {},
   "outputs": [],
   "source": [
    "# 🔧 2. Generate Dataset Imbalance\n",
    "X, y = make_classification(n_samples=1000, n_features=5, weights=[0.9, 0.1], random_state=42)\n",
    "print(f'Distribusi Awal Kelas: {Counter(y)}')\n",
    "sns.countplot(x=y)\n",
    "plt.title('Distribusi Kelas Sebelum Penanganan')\n",
    "plt.show()"
   ]
  },
  {
   "cell_type": "markdown",
   "metadata": {},
   "source": [
    "## 🤖 3. Model Baseline (Tanpa Penanganan)"
   ]
  },
  {
   "cell_type": "code",
   "execution_count": null,
   "metadata": {},
   "outputs": [],
   "source": [
    "# 🤖 3. Model Baseline (Tanpa Penanganan)\n",
    "X_train, X_test, y_train, y_test = train_test_split(X, y, test_size=0.2, random_state=42)\n",
    "model = LogisticRegression()\n",
    "model.fit(X_train, y_train)\n",
    "y_pred = model.predict(X_test)\n",
    "print(classification_report(y_test, y_pred))\n",
    "sns.heatmap(confusion_matrix(y_test, y_pred), annot=True, fmt='d')\n",
    "plt.title('Confusion Matrix - Model Awal')\n",
    "plt.show()"
   ]
  },
  {
   "cell_type": "markdown",
   "metadata": {},
   "source": [
    "## 🔁 4. Oversampling dengan SMOTE"
   ]
  },
  {
   "cell_type": "code",
   "execution_count": null,
   "metadata": {},
   "outputs": [],
   "source": [
    "# 🔁 4. Oversampling dengan SMOTE\n",
    "smote = SMOTE(random_state=42)\n",
    "X_sm, y_sm = smote.fit_resample(X_train, y_train)\n",
    "print(f'Distribusi Setelah SMOTE: {Counter(y_sm)}')\n",
    "model_sm = LogisticRegression()\n",
    "model_sm.fit(X_sm, y_sm)\n",
    "y_pred_sm = model_sm.predict(X_test)\n",
    "print(classification_report(y_test, y_pred_sm))\n",
    "sns.heatmap(confusion_matrix(y_test, y_pred_sm), annot=True, fmt='d')\n",
    "plt.title('Confusion Matrix - Setelah SMOTE')\n",
    "plt.show()"
   ]
  },
  {
   "cell_type": "markdown",
   "metadata": {},
   "source": [
    "## 🔽 5. Undersampling (Mayoritas Dikurangi)"
   ]
  },
  {
   "cell_type": "code",
   "execution_count": null,
   "metadata": {},
   "outputs": [],
   "source": [
    "# 🔽 5. Undersampling (Mayoritas Dikurangi)\n",
    "under = RandomUnderSampler(random_state=42)\n",
    "X_under, y_under = under.fit_resample(X_train, y_train)\n",
    "print(f'Distribusi Setelah Undersampling: {Counter(y_under)}')\n",
    "model_under = LogisticRegression()\n",
    "model_under.fit(X_under, y_under)\n",
    "y_pred_under = model_under.predict(X_test)\n",
    "print(classification_report(y_test, y_pred_under))\n",
    "sns.heatmap(confusion_matrix(y_test, y_pred_under), annot=True, fmt='d')\n",
    "plt.title('Confusion Matrix - Setelah Undersampling')\n",
    "plt.show()"
   ]
  }
 ],
 "metadata": {
  "kernelspec": {
   "display_name": "venv",
   "language": "python",
   "name": "python3"
  },
  "language_info": {
   "codemirror_mode": {
    "name": "ipython",
    "version": 3
   },
   "file_extension": ".py",
   "mimetype": "text/x-python",
   "name": "python",
   "nbconvert_exporter": "python",
   "pygments_lexer": "ipython3",
   "version": "3.10.11"
  }
 },
 "nbformat": 4,
 "nbformat_minor": 2
}
