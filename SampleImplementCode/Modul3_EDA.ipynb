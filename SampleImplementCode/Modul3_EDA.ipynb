{
 "cells": [
  {
   "cell_type": "markdown",
   "metadata": {},
   "source": [
    "# 📊 Notebook Latihan: Exploratory Data Analysis (Modul 3)"
   ]
  },
  {
   "cell_type": "markdown",
   "metadata": {},
   "source": [
    "## 📥 1. Import Library dan Dataset"
   ]
  },
  {
   "cell_type": "code",
   "execution_count": null,
   "metadata": {},
   "outputs": [],
   "source": [
    "import pandas as pd\n",
    "import numpy as np\n",
    "import seaborn as sns\n",
    "import matplotlib.pyplot as plt\n",
    "import warnings\n",
    "warnings.filterwarnings('ignore')\n",
    "\n",
    "# Dataset dummy\n",
    "data = {\n",
    "    'nama': ['Andi', 'Budi', 'Citra', 'Dina', 'Eka', 'Fajar', 'Gina'],\n",
    "    'usia': [25, 30, 23, 30, 29, 27, 22],\n",
    "    'gender': ['L', 'P', 'P', 'L', 'L', 'L', 'P'],\n",
    "    'pendapatan': [3.5, 7.8, 5.0, 5.5, 6.1, 6.0, 4.5],\n",
    "    'pengeluaran': [2.5, 6.8, 4.0, 4.5, 5.1, 5.5, 3.5],\n",
    "    'is_active': [1, 1, 0, 1, 0, 1, 0]\n",
    "}\n",
    "df = pd.DataFrame(data)\n",
    "df.to_csv('DataSampling/data_sample_2.csv', index=False)\n",
    "df"
   ]
  },
  {
   "cell_type": "markdown",
   "metadata": {},
   "source": [
    "## 📊 2. Statistik Deskriptif Dasar"
   ]
  },
  {
   "cell_type": "code",
   "execution_count": null,
   "metadata": {},
   "outputs": [],
   "source": [
    "# Statistik deskriptif\n",
    "df.describe()"
   ]
  },
  {
   "cell_type": "markdown",
   "metadata": {},
   "source": [
    "## 📉 3. Visualisasi Distribusi Data Numerik"
   ]
  },
  {
   "cell_type": "code",
   "execution_count": null,
   "metadata": {},
   "outputs": [],
   "source": [
    "# Histogram\n",
    "df[['usia', 'pendapatan', 'pengeluaran']].hist(bins=10, figsize=(10, 5), color='skyblue')\n",
    "plt.suptitle('Distribusi Data Numerik')\n",
    "plt.show()"
   ]
  },
  {
   "cell_type": "markdown",
   "metadata": {},
   "source": [
    "## 📦 4. Outlier Detection dengan Boxplot"
   ]
  },
  {
   "cell_type": "code",
   "execution_count": null,
   "metadata": {},
   "outputs": [],
   "source": [
    "# Boxplot\n",
    "plt.figure(figsize=(10, 4))\n",
    "sns.boxplot(data=df[['pendapatan', 'pengeluaran']])\n",
    "plt.title('Boxplot Pendapatan & Pengeluaran')\n",
    "plt.show()"
   ]
  },
  {
   "cell_type": "markdown",
   "metadata": {},
   "source": [
    "## 🔍 5. Analisis Korelasi antar Variabel Numerik"
   ]
  },
  {
   "cell_type": "code",
   "execution_count": null,
   "metadata": {},
   "outputs": [],
   "source": [
    "# Korelasi\n",
    "plt.figure(figsize=(8, 5))\n",
    "sns.heatmap(df.corr(numeric_only=True), annot=True, cmap='coolwarm')  # Ensure only numeric columns are used\n",
    "plt.title('Heatmap Korelasi')\n",
    "plt.show()"
   ]
  },
  {
   "cell_type": "markdown",
   "metadata": {},
   "source": [
    "## 📊 6. Visualisasi Variabel Kategorikal"
   ]
  },
  {
   "cell_type": "code",
   "execution_count": null,
   "metadata": {},
   "outputs": [],
   "source": [
    "# Countplot gender\n",
    "sns.countplot(x='gender', data=df)\n",
    "plt.title('Distribusi Gender')\n",
    "plt.show()\n",
    "\n",
    "# Barplot rata-rata pendapatan berdasarkan gender\n",
    "sns.barplot(x='gender', y='pendapatan', data=df)\n",
    "plt.title('Rata-rata Pendapatan per Gender')\n",
    "plt.show()"
   ]
  }
 ],
 "metadata": {
  "kernelspec": {
   "display_name": "training",
   "language": "python",
   "name": "python3"
  },
  "language_info": {
   "codemirror_mode": {
    "name": "ipython",
    "version": 3
   },
   "file_extension": ".py",
   "mimetype": "text/x-python",
   "name": "python",
   "nbconvert_exporter": "python",
   "pygments_lexer": "ipython3",
   "version": "3.12.9"
  }
 },
 "nbformat": 4,
 "nbformat_minor": 2
}
